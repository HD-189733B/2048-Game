{
 "cells": [
  {
   "cell_type": "code",
   "execution_count": 1,
   "id": "d8e273d9-992c-49a7-b404-1eff196d2489",
   "metadata": {},
   "outputs": [],
   "source": [
    "import random"
   ]
  },
  {
   "cell_type": "code",
   "execution_count": 2,
   "id": "7953e0a1-fa77-44ef-9835-294ee80fb726",
   "metadata": {},
   "outputs": [],
   "source": [
    "def start_game():\n",
    "    mat = []\n",
    "    for i in range(4):\n",
    "        mat.append([0]*4)\n",
    "    return mat"
   ]
  },
  {
   "cell_type": "code",
   "execution_count": 3,
   "id": "9dde9bf2-f854-4a7f-8508-71f8f45fa006",
   "metadata": {},
   "outputs": [],
   "source": [
    "def move_up(grid):\n",
    "    #Implement This Function\n",
    "    for j in range(4):\n",
    "        for i in range(1, 4):\n",
    "            if grid[i][j] != 0:\n",
    "                for k in range(i, 0, -1):\n",
    "                    if grid[k - 1][j] == 0:\n",
    "                        grid[k - 1][j] = grid[k][j]\n",
    "                        grid[k][j] = 0\n",
    "                    elif grid[k - 1][j] == grid[k][j]:\n",
    "                        grid[k - 1][j] *= 2\n",
    "                        grid[k][j] = 0\n",
    "                        break\n",
    "                    else:\n",
    "                        break\n",
    "    return grid"
   ]
  },
  {
   "cell_type": "code",
   "execution_count": 4,
   "id": "5095d83d-ce50-41d4-8e3c-c33bb89a2a1f",
   "metadata": {},
   "outputs": [],
   "source": [
    "def move_down(grid):\n",
    "    #Implement This Function\n",
    "    for j in range(4):\n",
    "        for i in range(2, -1, -1):\n",
    "            if grid[i][j] != 0:\n",
    "                for k in range(i, 3):\n",
    "                    if grid[k + 1][j] == 0:\n",
    "                        grid[k + 1][j] = grid[k][j]\n",
    "                        grid[k][j] = 0\n",
    "                    elif grid[k + 1][j] == grid[k][j]:\n",
    "                        grid[k + 1][j] *= 2\n",
    "                        grid[k][j] = 0\n",
    "                        break\n",
    "                    else:\n",
    "                        break\n",
    "    return grid"
   ]
  },
  {
   "cell_type": "code",
   "execution_count": 5,
   "id": "f2e9c483-3c6e-468a-856a-fcfda77ef077",
   "metadata": {},
   "outputs": [],
   "source": [
    "def move_right(grid):\n",
    "    #Implement This Function\n",
    "    for i in range(4):\n",
    "        for j in range(2, -1, -1):\n",
    "            if grid[i][j] != 0:\n",
    "                for k in range(j, 3):\n",
    "                    if grid[i][k + 1] == 0:\n",
    "                        grid[i][k + 1] = grid[i][k]\n",
    "                        grid[i][k] = 0\n",
    "                    elif grid[i][k + 1] == grid[i][k]:\n",
    "                        grid[i][k + 1] *= 2\n",
    "                        grid[i][k] = 0\n",
    "                        break\n",
    "                    else:\n",
    "                        break\n",
    "    return grid"
   ]
  },
  {
   "cell_type": "code",
   "execution_count": 6,
   "id": "d8cacd7e-fdd7-430d-bf78-9b7a17835303",
   "metadata": {},
   "outputs": [],
   "source": [
    "def move_left(grid):\n",
    "    #Implement This Function\n",
    "    for i in range(4):\n",
    "        for j in range(1, 4):\n",
    "            if grid[i][j] != 0:\n",
    "                for k in range(j, 0, -1):\n",
    "                    if grid[i][k - 1] == 0:\n",
    "                        grid[i][k - 1] = grid[i][k]\n",
    "                        grid[i][k] = 0\n",
    "                    elif grid[i][k - 1] == grid[i][k]:\n",
    "                        grid[i][k - 1] *= 2\n",
    "                        grid[i][k] = 0\n",
    "                        break\n",
    "                    else:\n",
    "                        break\n",
    "    return grid"
   ]
  },
  {
   "cell_type": "code",
   "execution_count": 7,
   "id": "9b76c049-4749-4b89-976b-bcd8d1f5b2c6",
   "metadata": {},
   "outputs": [
    {
     "name": "stdin",
     "output_type": "stream",
     "text": [
      " 1 2 4 3 2 4 3 1 4\n"
     ]
    },
    {
     "name": "stdout",
     "output_type": "stream",
     "text": [
      "[[4, 4, 2, 2], [0, 8, 0, 0], [0, 0, 0, 0], [0, 0, 0, 0]]\n",
      "[[0, 0, 0, 0], [0, 0, 0, 0], [0, 4, 0, 0], [4, 8, 2, 2]]\n",
      "[[0, 0, 0, 0], [0, 0, 0, 0], [0, 0, 0, 4], [0, 4, 8, 4]]\n",
      "[[0, 0, 0, 0], [0, 0, 0, 0], [4, 0, 0, 0], [4, 8, 4, 0]]\n",
      "[[0, 0, 0, 0], [0, 0, 0, 0], [0, 0, 0, 0], [8, 8, 4, 0]]\n",
      "[[0, 0, 0, 0], [0, 0, 0, 0], [0, 0, 0, 0], [0, 0, 16, 4]]\n",
      "[[0, 0, 0, 0], [0, 0, 0, 0], [0, 0, 0, 0], [16, 4, 0, 0]]\n",
      "[[16, 4, 0, 0], [0, 0, 0, 0], [0, 0, 0, 0], [0, 0, 0, 0]]\n",
      "[[0, 0, 16, 4], [0, 0, 0, 0], [0, 0, 0, 0], [0, 0, 0, 0]]\n"
     ]
    }
   ],
   "source": [
    "mat = start_game()\n",
    "mat[1][3] = 2\n",
    "mat[2][2] = 2\n",
    "mat[3][0] = 4\n",
    "mat[3][1] = 8\n",
    "mat[2][1] = 4\n",
    "inputs = [int(ele) for ele in input().split()]\n",
    "for ele in inputs:\n",
    "    if ele == 1:\n",
    "        mat = move_up(mat)\n",
    "    elif ele == 2:\n",
    "        mat = move_down(mat)\n",
    "    elif ele == 3:\n",
    "        mat = move_left(mat)\n",
    "    else:\n",
    "        mat = move_right(mat)\n",
    "    print(mat)"
   ]
  },
  {
   "cell_type": "code",
   "execution_count": null,
   "id": "4a2e2c17-3238-44db-bfd5-b5eb7843dc54",
   "metadata": {},
   "outputs": [],
   "source": []
  }
 ],
 "metadata": {
  "kernelspec": {
   "display_name": "Python 3 (ipykernel)",
   "language": "python",
   "name": "python3"
  },
  "language_info": {
   "codemirror_mode": {
    "name": "ipython",
    "version": 3
   },
   "file_extension": ".py",
   "mimetype": "text/x-python",
   "name": "python",
   "nbconvert_exporter": "python",
   "pygments_lexer": "ipython3",
   "version": "3.12.3"
  }
 },
 "nbformat": 4,
 "nbformat_minor": 5
}
